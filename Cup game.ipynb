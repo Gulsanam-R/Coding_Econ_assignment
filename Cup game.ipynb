{
  "nbformat": 4,
  "nbformat_minor": 0,
  "metadata": {
    "colab": {
      "name": "Untitled0.ipynb",
      "provenance": [],
      "collapsed_sections": []
    },
    "kernelspec": {
      "name": "python3",
      "display_name": "Python 3"
    },
    "language_info": {
      "name": "python"
    }
  },
  "cells": [
    {
      "cell_type": "code",
      "execution_count": 12,
      "metadata": {
        "id": "IGkfy6LP4lrC",
        "colab": {
          "base_uri": "https://localhost:8080/"
        },
        "outputId": "2feeefe6-0b50-47de-a370-91edc95adbb8"
      },
      "outputs": [
        {
          "output_type": "stream",
          "name": "stdout",
          "text": [
            "Let's play a cup game!\n",
            "['B', '', '']\n",
            "Pick a number: 1, 2 or 31\n",
            "YOU WON!\n"
          ]
        }
      ],
      "source": [
        "print (\"Let's play a cup game!\")\n",
        "\n",
        "#This code is supposed to demonstrate use of functions, loops and conditions.\n",
        "\n",
        "from random import shuffle\n",
        "\n",
        "#There are three cups. One of them has a ball underneath.\n",
        "\n",
        "list = ['', 'B', '']\n",
        "def shuffle_list(list):\n",
        "    shuffle(list)\n",
        "    return list\n",
        "\n",
        "shuffle_list(list)\n",
        "\n",
        "def participant_guess():\n",
        "    \n",
        "    guess = ''   #Start with an empty guess\n",
        "    while guess not in ['1','2','3']:\n",
        "        guess = input('Pick a number: 1, 2 or 3')\n",
        "\n",
        "    return int(guess) \n",
        "\n",
        "def check_guess(list,guess):\n",
        "    if list[guess] == \"B\":\n",
        "         print(\"YOU WON!\")\n",
        "    else:print(\"Wrong guess! Next try.\")\n",
        "print(list)\n",
        "\n",
        "#Game starts from the list.\n",
        "list = ['', 'B', '']\n",
        "\n",
        "#Shuffle the list to have different outcomes each time. Calling Function 1:\n",
        "mixer = shuffle_list(list)\n",
        "\n",
        "#Make a guess. Calling Function 2:\n",
        "guess = participant_guess()\n",
        "\n",
        "#Check the results. Calling Function 3:\n",
        "check_guess(mixer,guess)\n"
      ]
    }
  ]
}