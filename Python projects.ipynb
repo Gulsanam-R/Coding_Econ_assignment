{
  "nbformat": 4,
  "nbformat_minor": 0,
  "metadata": {
    "colab": {
      "name": "Untitled0.ipynb",
      "provenance": []
    },
    "kernelspec": {
      "name": "python3",
      "display_name": "Python 3"
    },
    "language_info": {
      "name": "python"
    }
  },
  "cells": [
    {
      "cell_type": "code",
      "execution_count": null,
      "metadata": {
        "id": "IGkfy6LP4lrC"
      },
      "outputs": [],
      "source": [
        "!pip install countryinfo\n",
        "from countryinfo import CountryInfo\n",
        "\n",
        "print ('You can find the country code by entering a country name here.')\n",
        "user = input('Country name: ')\n",
        "name = user\n",
        "country = CountryInfo(name)\n",
        "\n",
        "calling_codes= country.calling_codes()\n",
        "print('Calling Code:')\n",
        "for call_code in calling_codes:\n",
        "    print(call_code)\n",
        "\n",
        "country_currency = country.currencies()\n",
        "print('Currency:')\n",
        "for currency in country_currency:\n",
        "    print(currency, end= ', ')\n",
        "\n",
        "#Creating a BMI calculator to show use of functions.\n",
        "\n",
        "print('Check your BMI.')\n",
        "\n",
        "weight=float(input(\"Enter your weight in kg:\"))\n",
        "height=float(input(\"Enter your height in cm:\"))\n",
        "\n",
        "# BMI formula\n",
        "bmi=weight/((height/100)*(height/100))\n",
        "\n",
        "# Result\n",
        "print(\"Your Body Mass Index (BMI) is:\",round(bmi,2))\n",
        "if bmi <= 18.5:  \n",
        "    print(\"Eat more! You are underweight.\")  \n",
        "elif bmi <= 24.9:  \n",
        "    print(\"Witch detected! You are in perfect shape.\")  \n",
        "elif bmi <= 29.9:  \n",
        "    print(\"Run to the gym! You are overweight.\")  \n",
        "else:  \n",
        "    print(\"Urgently consult your doctor! You are obese.\")  "
      ]
    }
  ]
}